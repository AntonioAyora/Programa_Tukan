{
 "cells": [
  {
   "cell_type": "code",
   "execution_count": 2,
   "id": "fa9e12e4-8c5a-46f1-834b-db96ac3c0006",
   "metadata": {},
   "outputs": [
    {
     "name": "stdout",
     "output_type": "stream",
     "text": [
      "Name        Numero de visitas  Taken at\n",
      "--------  -------------------  ------------------------\n",
      "realtime               370054  2022-03-25T19:01:17.039Z\n"
     ]
    }
   ],
   "source": [
    "import requests \n",
    "import json\n",
    "from tabulate import tabulate\n",
    "df = requests.get(\"https://analytics.usa.gov/data/live/realtime.json\")\n",
    "df_p = df.json()\n",
    "\n",
    "name =df_p['name']\n",
    "visitas = df_p[\"data\"][0].get('active_visitors',{})\n",
    "ids = df_p[\"taken_at\"]\n",
    "\n",
    "talbe = {'Name': [name], 'Numero de visitas': [visitas], 'Taken at': [ids]}\n",
    "print(tabulate(talbe, headers = \"keys\"))"
   ]
  },
  {
   "cell_type": "code",
   "execution_count": null,
   "id": "61b67888-2e6c-4dad-8cbe-91e98aa7a64b",
   "metadata": {},
   "outputs": [],
   "source": []
  }
 ],
 "metadata": {
  "kernelspec": {
   "display_name": "Python 3 (ipykernel)",
   "language": "python",
   "name": "python3"
  },
  "language_info": {
   "codemirror_mode": {
    "name": "ipython",
    "version": 3
   },
   "file_extension": ".py",
   "mimetype": "text/x-python",
   "name": "python",
   "nbconvert_exporter": "python",
   "pygments_lexer": "ipython3",
   "version": "3.10.1"
  }
 },
 "nbformat": 4,
 "nbformat_minor": 5
}
