{
 "cells": [
  {
   "cell_type": "code",
   "execution_count": 1,
   "id": "7111cd4c-c860-449e-aa98-32a9890566a3",
   "metadata": {},
   "outputs": [
    {
     "data": {
      "text/plain": [
       "118"
      ]
     },
     "execution_count": 1,
     "metadata": {},
     "output_type": "execute_result"
    }
   ],
   "source": [
    "from bs4 import BeautifulSoup\n",
    "import requests\n",
    "\n",
    "def find_files(x):\n",
    "    url = x\n",
    "    soup = BeautifulSoup(requests.get(url).text)\n",
    "\n",
    "    hrefs = []\n",
    "\n",
    "    for a in soup.find_all('a'):\n",
    "        hrefs.append(a['href'])\n",
    "\n",
    "    return hrefs\n",
    "\n",
    "\n",
    "x =find_files(\"https://datos.gob.mx/busca/dataset/salud-sexual-y-reproductiva\")\n",
    "len(x)"
   ]
  },
  {
   "cell_type": "code",
   "execution_count": null,
   "id": "1fd82502-700e-47f4-b360-76ea50360a69",
   "metadata": {},
   "outputs": [],
   "source": []
  }
 ],
 "metadata": {
  "kernelspec": {
   "display_name": "Python 3 (ipykernel)",
   "language": "python",
   "name": "python3"
  },
  "language_info": {
   "codemirror_mode": {
    "name": "ipython",
    "version": 3
   },
   "file_extension": ".py",
   "mimetype": "text/x-python",
   "name": "python",
   "nbconvert_exporter": "python",
   "pygments_lexer": "ipython3",
   "version": "3.10.1"
  }
 },
 "nbformat": 4,
 "nbformat_minor": 5
}
