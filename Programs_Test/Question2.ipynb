{
 "cells": [
  {
   "cell_type": "code",
   "execution_count": 1,
   "id": "d9f552cf-ba6e-42aa-aa83-4052c9b523e6",
   "metadata": {},
   "outputs": [
    {
     "name": "stdout",
     "output_type": "stream",
     "text": [
      "Pagina existente\n"
     ]
    }
   ],
   "source": [
    "from urllib.request import urlopen\n",
    "from urllib.error import *\n",
    "\n",
    "def encontrar(url):\n",
    "    try:\n",
    "        html = urlopen(url)\n",
    "\n",
    "    except HTTPError as e:\n",
    "        print(\"HTTP error\", e)\n",
    "     \n",
    "    except URLError as e:\n",
    "        print(\"Pagina no encontrada\", e)\n",
    "    \n",
    "    else:\n",
    "        print('Pagina existente')\n",
    "        \n",
    "encontrar(\"https://www.youtube.com\")"
   ]
  },
  {
   "cell_type": "code",
   "execution_count": null,
   "id": "320cc32b-e3a4-4ab9-8eae-5546e2d56d07",
   "metadata": {},
   "outputs": [],
   "source": []
  }
 ],
 "metadata": {
  "kernelspec": {
   "display_name": "Python 3 (ipykernel)",
   "language": "python",
   "name": "python3"
  },
  "language_info": {
   "codemirror_mode": {
    "name": "ipython",
    "version": 3
   },
   "file_extension": ".py",
   "mimetype": "text/x-python",
   "name": "python",
   "nbconvert_exporter": "python",
   "pygments_lexer": "ipython3",
   "version": "3.10.1"
  }
 },
 "nbformat": 4,
 "nbformat_minor": 5
}
